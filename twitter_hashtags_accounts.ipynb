{
  "nbformat": 4,
  "nbformat_minor": 0,
  "metadata": {
    "colab": {
      "name": "twitter hashtags accounts.ipynb",
      "provenance": [],
      "mount_file_id": "11FOmvbGfpUH02gkTz5Fyq_H3FDU0M4sd",
      "authorship_tag": "ABX9TyMzkx6szxpkexBxXvVXFonk",
      "include_colab_link": true
    },
    "kernelspec": {
      "name": "python3",
      "display_name": "Python 3"
    },
    "language_info": {
      "name": "python"
    }
  },
  "cells": [
    {
      "cell_type": "markdown",
      "metadata": {
        "id": "view-in-github",
        "colab_type": "text"
      },
      "source": [
        "<a href=\"https://colab.research.google.com/github/minakim409/snowball_internship/blob/main/twitter_hashtags_accounts.ipynb\" target=\"_parent\"><img src=\"https://colab.research.google.com/assets/colab-badge.svg\" alt=\"Open In Colab\"/></a>"
      ]
    },
    {
      "cell_type": "code",
      "metadata": {
        "colab": {
          "base_uri": "https://localhost:8080/"
        },
        "id": "hul9i-iHXNSN",
        "outputId": "4a5261f8-06b8-4e69-bfa3-4331fb70f0d2"
      },
      "source": [
        "#I run this on google colab, so if you wanna run this on other debugger then 'pip install' should be in your command\n",
        "#and ignore this, when you run other debugger, this is for mount google drive\n",
        "from google.colab import drive\n",
        "drive.mount('/content/drive')"
      ],
      "execution_count": 2,
      "outputs": [
        {
          "output_type": "stream",
          "text": [
            "Drive already mounted at /content/drive; to attempt to forcibly remount, call drive.mount(\"/content/drive\", force_remount=True).\n"
          ],
          "name": "stdout"
        }
      ]
    },
    {
      "cell_type": "code",
      "metadata": {
        "id": "k5B9bIytjRqt"
      },
      "source": [
        "#This is Mina account API for now, will change it once snowballforgood api is verified\n",
        "#Or maybe you can just use it\n",
        "import twitter\n",
        "# APIKey = 8oeu7hNA2d0nLoxpOSQEPFhhG\n",
        "#api secret key = j1fCcuFgmTxABcS6OEi4HwJiLMm8mQYqF4MLOluHMsj3XdmRqq\n",
        "#bearer token = AAAAAAAAAAAAAAAAAAAAAOS8RQEAAAAAdHjYkCA%2B8hj77iM7RVR0yon7HlM%3DwLvnN57pjvZGLQNKi4kiArujmWxrfly1ElNjohs0OVhHeKaCHC\n",
        "# access token =  1412950945638490121-eRw1piChNTMEDi48gLjACqqiC8M1Xc\n",
        "# access token secret = HVsjbOqNxkoY7bMmtiY03mSKOEafLgNE1Ny1vfmZCUXBL\n",
        "twitter_consumer_key = \"kNqVvzCfwffU9u9cYhJAyyrAY\"\n",
        "twitter_consumer_secret = \"esNRBSigCMzThioVvxIwQJ5APRNjKEFOwhUAvoGujnhYvhbRZv\"  \n",
        "twitter_access_token = \"1412950945638490121-XyHJhhAJ0t3x90Y5SM3KJyE59XwgCc\"\n",
        "twitter_access_secret = \"t9J0rrmI8KswDF0Xr9ghMVrdZFgCFYxPW0yK8N5iHOjnm\"\n"
      ],
      "execution_count": null,
      "outputs": []
    },
    {
      "cell_type": "code",
      "metadata": {
        "colab": {
          "base_uri": "https://localhost:8080/"
        },
        "id": "yPUDXBz6YzDy",
        "outputId": "2d2a282c-75a6-4c12-ea38-f8234589366f"
      },
      "source": [
        "!pip install tweepy\n",
        "!pip install pandas\n",
        "import pandas as pd\n",
        "import json\n",
        "import csv"
      ],
      "execution_count": null,
      "outputs": [
        {
          "output_type": "stream",
          "text": [
            "Requirement already satisfied: tweepy in /usr/local/lib/python3.7/dist-packages (3.10.0)\n",
            "Requirement already satisfied: requests[socks]>=2.11.1 in /usr/local/lib/python3.7/dist-packages (from tweepy) (2.23.0)\n",
            "Requirement already satisfied: requests-oauthlib>=0.7.0 in /usr/local/lib/python3.7/dist-packages (from tweepy) (1.3.0)\n",
            "Requirement already satisfied: six>=1.10.0 in /usr/local/lib/python3.7/dist-packages (from tweepy) (1.15.0)\n",
            "Requirement already satisfied: urllib3!=1.25.0,!=1.25.1,<1.26,>=1.21.1 in /usr/local/lib/python3.7/dist-packages (from requests[socks]>=2.11.1->tweepy) (1.24.3)\n",
            "Requirement already satisfied: chardet<4,>=3.0.2 in /usr/local/lib/python3.7/dist-packages (from requests[socks]>=2.11.1->tweepy) (3.0.4)\n",
            "Requirement already satisfied: idna<3,>=2.5 in /usr/local/lib/python3.7/dist-packages (from requests[socks]>=2.11.1->tweepy) (2.10)\n",
            "Requirement already satisfied: certifi>=2017.4.17 in /usr/local/lib/python3.7/dist-packages (from requests[socks]>=2.11.1->tweepy) (2021.5.30)\n",
            "Requirement already satisfied: PySocks!=1.5.7,>=1.5.6; extra == \"socks\" in /usr/local/lib/python3.7/dist-packages (from requests[socks]>=2.11.1->tweepy) (1.7.1)\n",
            "Requirement already satisfied: oauthlib>=3.0.0 in /usr/local/lib/python3.7/dist-packages (from requests-oauthlib>=0.7.0->tweepy) (3.1.1)\n"
          ],
          "name": "stdout"
        }
      ]
    },
    {
      "cell_type": "code",
      "metadata": {
        "id": "MmWlDshPY6Q6"
      },
      "source": [
        "import tweepy\n",
        "auth = tweepy.OAuthHandler(twitter_consumer_key, twitter_consumer_secret)\n",
        "auth.set_access_token(twitter_access_token, twitter_access_secret)\n",
        "api = tweepy.API(auth, wait_on_rate_limit=True)\n"
      ],
      "execution_count": null,
      "outputs": []
    },
    {
      "cell_type": "code",
      "metadata": {
        "id": "QY9cNAjocKy8",
        "colab": {
          "base_uri": "https://localhost:8080/",
          "height": 245
        },
        "outputId": "30c993ca-944d-43e7-f77d-ca02b5ec4dd4"
      },
      "source": [
        "#q = \"hashtag that you wanna find\", Since = \"enter the date that infos from when\", until =\"enter the date that infos until when, but if it's until today, you don't have to type it\" \n",
        "#items() -> in bracket, you can type how many data taht you want, so basically if you want gather 1000 data, then enter 1000 \n",
        "#After run this code, it gives you post date, user screen name(user id), their tweet \n",
        "rows = []\n",
        "for tweet in tweepy.Cursor(api.search, \n",
        "                    q=\"FreeHongKong\",\n",
        "                    Since=\"2021-06-01\",\n",
        "                    #until=\"2014-02-15\", \n",
        ").items(1500):\n",
        "  # if (not tweet.retweeted) and ('RT @' not in tweet.text):\n",
        "    temp = [tweet.created_at,tweet.user.screen_name, tweet.text]\n",
        "    rows.append(temp)\n",
        "    "
      ],
      "execution_count": 1,
      "outputs": [
        {
          "output_type": "error",
          "ename": "NameError",
          "evalue": "ignored",
          "traceback": [
            "\u001b[0;31m---------------------------------------------------------------------------\u001b[0m",
            "\u001b[0;31mNameError\u001b[0m                                 Traceback (most recent call last)",
            "\u001b[0;32m<ipython-input-1-781d08d9dfe1>\u001b[0m in \u001b[0;36m<module>\u001b[0;34m()\u001b[0m\n\u001b[1;32m      1\u001b[0m \u001b[0mrows\u001b[0m \u001b[0;34m=\u001b[0m \u001b[0;34m[\u001b[0m\u001b[0;34m]\u001b[0m\u001b[0;34m\u001b[0m\u001b[0;34m\u001b[0m\u001b[0m\n\u001b[0;32m----> 2\u001b[0;31m for tweet in tweepy.Cursor(api.search, \n\u001b[0m\u001b[1;32m      3\u001b[0m                     \u001b[0mq\u001b[0m\u001b[0;34m=\u001b[0m\u001b[0;34m\"FreeHongKong\"\u001b[0m\u001b[0;34m,\u001b[0m\u001b[0;34m\u001b[0m\u001b[0;34m\u001b[0m\u001b[0m\n\u001b[1;32m      4\u001b[0m                     \u001b[0mSince\u001b[0m\u001b[0;34m=\u001b[0m\u001b[0;34m\"2021-06-01\"\u001b[0m\u001b[0;34m,\u001b[0m\u001b[0;34m\u001b[0m\u001b[0;34m\u001b[0m\u001b[0m\n\u001b[1;32m      5\u001b[0m                     \u001b[0;31m#until=\"2014-02-15\",\u001b[0m\u001b[0;34m\u001b[0m\u001b[0;34m\u001b[0m\u001b[0;34m\u001b[0m\u001b[0m\n",
            "\u001b[0;31mNameError\u001b[0m: name 'tweepy' is not defined"
          ]
        }
      ]
    },
    {
      "cell_type": "code",
      "metadata": {
        "colab": {
          "base_uri": "https://localhost:8080/",
          "height": 35
        },
        "id": "fdzYWFWUcwJO",
        "outputId": "7e9a5dfb-f0b6-4944-bced-6e5b00781630"
      },
      "source": [
        "#This is just for testing if I get a right data\n",
        "rows[0][2]"
      ],
      "execution_count": null,
      "outputs": [
        {
          "output_type": "execute_result",
          "data": {
            "application/vnd.google.colaboratory.intrinsic+json": {
              "type": "string"
            },
            "text/plain": [
              "'RT @DanielFreeHK51: Day 320, #BringThemBack, #BringThemALLBack, #save12hkyouths from #CCP.\\n\\nFree ALL political prisoners &amp; defend our right…'"
            ]
          },
          "metadata": {
            "tags": []
          },
          "execution_count": 85
        }
      ]
    },
    {
      "cell_type": "code",
      "metadata": {
        "colab": {
          "base_uri": "https://localhost:8080/",
          "height": 419
        },
        "id": "Xcests5fdYDE",
        "outputId": "615593b0-666f-4f09-aff6-672c3f352541"
      },
      "source": [
        "#checking if they contain deplicated user name, if it has, drop on the data\n",
        "df1 = pd.DataFrame(rows, columns = ['post time', 'screen name', 'text'])\n",
        "df2 = df1.drop_duplicates(subset=['screen name'])\n",
        "df2"
      ],
      "execution_count": null,
      "outputs": [
        {
          "output_type": "execute_result",
          "data": {
            "text/html": [
              "<div>\n",
              "<style scoped>\n",
              "    .dataframe tbody tr th:only-of-type {\n",
              "        vertical-align: middle;\n",
              "    }\n",
              "\n",
              "    .dataframe tbody tr th {\n",
              "        vertical-align: top;\n",
              "    }\n",
              "\n",
              "    .dataframe thead th {\n",
              "        text-align: right;\n",
              "    }\n",
              "</style>\n",
              "<table border=\"1\" class=\"dataframe\">\n",
              "  <thead>\n",
              "    <tr style=\"text-align: right;\">\n",
              "      <th></th>\n",
              "      <th>post time</th>\n",
              "      <th>screen name</th>\n",
              "      <th>text</th>\n",
              "    </tr>\n",
              "  </thead>\n",
              "  <tbody>\n",
              "    <tr>\n",
              "      <th>0</th>\n",
              "      <td>2021-07-09 05:01:28</td>\n",
              "      <td>152aqtnQIX2SeO4</td>\n",
              "      <td>RT @DanielFreeHK51: Day 320, #BringThemBack, #...</td>\n",
              "    </tr>\n",
              "    <tr>\n",
              "      <th>1</th>\n",
              "      <td>2021-07-09 04:55:37</td>\n",
              "      <td>happy_bogummy</td>\n",
              "      <td>@bueti Heartfelt thanks for doing a good deed ...</td>\n",
              "    </tr>\n",
              "    <tr>\n",
              "      <th>2</th>\n",
              "      <td>2021-07-09 04:53:52</td>\n",
              "      <td>LLL86262463</td>\n",
              "      <td>RT @hkerschedule: 此新聞轉載自Instagram, 齊上齊落廣傳最新消息 ...</td>\n",
              "    </tr>\n",
              "    <tr>\n",
              "      <th>3</th>\n",
              "      <td>2021-07-09 04:51:13</td>\n",
              "      <td>TomWong93767868</td>\n",
              "      <td>RT @Zenzai26haiD: #save12hkyouths #AndyIsMissi...</td>\n",
              "    </tr>\n",
              "    <tr>\n",
              "      <th>6</th>\n",
              "      <td>2021-07-09 04:14:29</td>\n",
              "      <td>FreeUyghurWomen</td>\n",
              "      <td>@GenshinImpact Bring back Rosaria's original b...</td>\n",
              "    </tr>\n",
              "    <tr>\n",
              "      <th>...</th>\n",
              "      <td>...</td>\n",
              "      <td>...</td>\n",
              "      <td>...</td>\n",
              "    </tr>\n",
              "    <tr>\n",
              "      <th>1495</th>\n",
              "      <td>2021-07-04 23:19:36</td>\n",
              "      <td>yoonhoonjean</td>\n",
              "      <td>RT @KirstyRobson_: On Thursday, I attended the...</td>\n",
              "    </tr>\n",
              "    <tr>\n",
              "      <th>1496</th>\n",
              "      <td>2021-07-04 23:14:04</td>\n",
              "      <td>iamWolby</td>\n",
              "      <td>@RampCapitalLLC I got one! Being rich and in t...</td>\n",
              "    </tr>\n",
              "    <tr>\n",
              "      <th>1497</th>\n",
              "      <td>2021-07-04 23:10:19</td>\n",
              "      <td>samuelgbaron</td>\n",
              "      <td>RT @jooeysiiu: Happy #FourthofJuly !\\n\\nWhile ...</td>\n",
              "    </tr>\n",
              "    <tr>\n",
              "      <th>1498</th>\n",
              "      <td>2021-07-04 23:00:11</td>\n",
              "      <td>Daniel23501037</td>\n",
              "      <td>RT @KirstyRobson_: On Thursday, I attended the...</td>\n",
              "    </tr>\n",
              "    <tr>\n",
              "      <th>1499</th>\n",
              "      <td>2021-07-04 23:00:08</td>\n",
              "      <td>OliviaEnos</td>\n",
              "      <td>RT @jooeysiiu: Happy #FourthofJuly !\\n\\nWhile ...</td>\n",
              "    </tr>\n",
              "  </tbody>\n",
              "</table>\n",
              "<p>696 rows × 3 columns</p>\n",
              "</div>"
            ],
            "text/plain": [
              "               post time  ...                                               text\n",
              "0    2021-07-09 05:01:28  ...  RT @DanielFreeHK51: Day 320, #BringThemBack, #...\n",
              "1    2021-07-09 04:55:37  ...  @bueti Heartfelt thanks for doing a good deed ...\n",
              "2    2021-07-09 04:53:52  ...  RT @hkerschedule: 此新聞轉載自Instagram, 齊上齊落廣傳最新消息 ...\n",
              "3    2021-07-09 04:51:13  ...  RT @Zenzai26haiD: #save12hkyouths #AndyIsMissi...\n",
              "6    2021-07-09 04:14:29  ...  @GenshinImpact Bring back Rosaria's original b...\n",
              "...                  ...  ...                                                ...\n",
              "1495 2021-07-04 23:19:36  ...  RT @KirstyRobson_: On Thursday, I attended the...\n",
              "1496 2021-07-04 23:14:04  ...  @RampCapitalLLC I got one! Being rich and in t...\n",
              "1497 2021-07-04 23:10:19  ...  RT @jooeysiiu: Happy #FourthofJuly !\\n\\nWhile ...\n",
              "1498 2021-07-04 23:00:11  ...  RT @KirstyRobson_: On Thursday, I attended the...\n",
              "1499 2021-07-04 23:00:08  ...  RT @jooeysiiu: Happy #FourthofJuly !\\n\\nWhile ...\n",
              "\n",
              "[696 rows x 3 columns]"
            ]
          },
          "metadata": {
            "tags": []
          },
          "execution_count": 80
        }
      ]
    },
    {
      "cell_type": "code",
      "metadata": {
        "id": "BnCEzcRydxON"
      },
      "source": [
        "#Set the location that where you wanna save data\n",
        "output_file_name = \"/content/drive/MyDrive/hongkong.csv\"\n",
        "df2.to_csv(output_file_name, index = False)\n"
      ],
      "execution_count": null,
      "outputs": []
    },
    {
      "cell_type": "code",
      "metadata": {
        "colab": {
          "base_uri": "https://localhost:8080/"
        },
        "id": "dzCVUXs1eSXl",
        "outputId": "ec50ff9f-027f-4b49-d292-11691e1ea538"
      },
      "source": [
        "#to see how many data it has, you can ignore it\n",
        "len(df2)"
      ],
      "execution_count": null,
      "outputs": [
        {
          "output_type": "execute_result",
          "data": {
            "text/plain": [
              "484"
            ]
          },
          "metadata": {
            "tags": []
          },
          "execution_count": 64
        }
      ]
    },
    {
      "cell_type": "markdown",
      "metadata": {
        "id": "DDGm48g4oKm2"
      },
      "source": [
        "**Here ends data scraping from twitter**"
      ]
    },
    {
      "cell_type": "markdown",
      "metadata": {
        "id": "h3kODywLoaAy"
      },
      "source": [
        "**From here, it transfer data to https://phantombuster.com/ format, gives twitter id link**"
      ]
    },
    {
      "cell_type": "code",
      "metadata": {
        "colab": {
          "base_uri": "https://localhost:8080/",
          "height": 419
        },
        "id": "HaenqEuz9RnX",
        "outputId": "79cf1250-3779-44e7-db56-310a3191f3df"
      },
      "source": [
        "#load your data\n",
        "df = pd.read_csv('/content/drive/MyDrive/Social accounts/twitter_hashtag/hongkong.csv')\n",
        "df"
      ],
      "execution_count": null,
      "outputs": [
        {
          "output_type": "execute_result",
          "data": {
            "text/html": [
              "<div>\n",
              "<style scoped>\n",
              "    .dataframe tbody tr th:only-of-type {\n",
              "        vertical-align: middle;\n",
              "    }\n",
              "\n",
              "    .dataframe tbody tr th {\n",
              "        vertical-align: top;\n",
              "    }\n",
              "\n",
              "    .dataframe thead th {\n",
              "        text-align: right;\n",
              "    }\n",
              "</style>\n",
              "<table border=\"1\" class=\"dataframe\">\n",
              "  <thead>\n",
              "    <tr style=\"text-align: right;\">\n",
              "      <th></th>\n",
              "      <th>post time</th>\n",
              "      <th>screen name</th>\n",
              "      <th>text</th>\n",
              "    </tr>\n",
              "  </thead>\n",
              "  <tbody>\n",
              "    <tr>\n",
              "      <th>0</th>\n",
              "      <td>2021-07-09 05:01:28</td>\n",
              "      <td>152aqtnQIX2SeO4</td>\n",
              "      <td>RT @DanielFreeHK51: Day 320, #BringThemBack, #...</td>\n",
              "    </tr>\n",
              "    <tr>\n",
              "      <th>1</th>\n",
              "      <td>2021-07-09 04:55:37</td>\n",
              "      <td>happy_bogummy</td>\n",
              "      <td>@bueti Heartfelt thanks for doing a good deed ...</td>\n",
              "    </tr>\n",
              "    <tr>\n",
              "      <th>2</th>\n",
              "      <td>2021-07-09 04:53:52</td>\n",
              "      <td>LLL86262463</td>\n",
              "      <td>RT @hkerschedule: 此新聞轉載自Instagram, 齊上齊落廣傳最新消息 ...</td>\n",
              "    </tr>\n",
              "    <tr>\n",
              "      <th>3</th>\n",
              "      <td>2021-07-09 04:51:13</td>\n",
              "      <td>TomWong93767868</td>\n",
              "      <td>RT @Zenzai26haiD: #save12hkyouths #AndyIsMissi...</td>\n",
              "    </tr>\n",
              "    <tr>\n",
              "      <th>4</th>\n",
              "      <td>2021-07-09 04:14:29</td>\n",
              "      <td>FreeUyghurWomen</td>\n",
              "      <td>@GenshinImpact Bring back Rosaria's original b...</td>\n",
              "    </tr>\n",
              "    <tr>\n",
              "      <th>...</th>\n",
              "      <td>...</td>\n",
              "      <td>...</td>\n",
              "      <td>...</td>\n",
              "    </tr>\n",
              "    <tr>\n",
              "      <th>691</th>\n",
              "      <td>2021-07-04 23:19:36</td>\n",
              "      <td>yoonhoonjean</td>\n",
              "      <td>RT @KirstyRobson_: On Thursday, I attended the...</td>\n",
              "    </tr>\n",
              "    <tr>\n",
              "      <th>692</th>\n",
              "      <td>2021-07-04 23:14:04</td>\n",
              "      <td>iamWolby</td>\n",
              "      <td>@RampCapitalLLC I got one! Being rich and in t...</td>\n",
              "    </tr>\n",
              "    <tr>\n",
              "      <th>693</th>\n",
              "      <td>2021-07-04 23:10:19</td>\n",
              "      <td>samuelgbaron</td>\n",
              "      <td>RT @jooeysiiu: Happy #FourthofJuly !\\n\\nWhile ...</td>\n",
              "    </tr>\n",
              "    <tr>\n",
              "      <th>694</th>\n",
              "      <td>2021-07-04 23:00:11</td>\n",
              "      <td>Daniel23501037</td>\n",
              "      <td>RT @KirstyRobson_: On Thursday, I attended the...</td>\n",
              "    </tr>\n",
              "    <tr>\n",
              "      <th>695</th>\n",
              "      <td>2021-07-04 23:00:08</td>\n",
              "      <td>OliviaEnos</td>\n",
              "      <td>RT @jooeysiiu: Happy #FourthofJuly !\\n\\nWhile ...</td>\n",
              "    </tr>\n",
              "  </tbody>\n",
              "</table>\n",
              "<p>696 rows × 3 columns</p>\n",
              "</div>"
            ],
            "text/plain": [
              "               post time  ...                                               text\n",
              "0    2021-07-09 05:01:28  ...  RT @DanielFreeHK51: Day 320, #BringThemBack, #...\n",
              "1    2021-07-09 04:55:37  ...  @bueti Heartfelt thanks for doing a good deed ...\n",
              "2    2021-07-09 04:53:52  ...  RT @hkerschedule: 此新聞轉載自Instagram, 齊上齊落廣傳最新消息 ...\n",
              "3    2021-07-09 04:51:13  ...  RT @Zenzai26haiD: #save12hkyouths #AndyIsMissi...\n",
              "4    2021-07-09 04:14:29  ...  @GenshinImpact Bring back Rosaria's original b...\n",
              "..                   ...  ...                                                ...\n",
              "691  2021-07-04 23:19:36  ...  RT @KirstyRobson_: On Thursday, I attended the...\n",
              "692  2021-07-04 23:14:04  ...  @RampCapitalLLC I got one! Being rich and in t...\n",
              "693  2021-07-04 23:10:19  ...  RT @jooeysiiu: Happy #FourthofJuly !\\n\\nWhile ...\n",
              "694  2021-07-04 23:00:11  ...  RT @KirstyRobson_: On Thursday, I attended the...\n",
              "695  2021-07-04 23:00:08  ...  RT @jooeysiiu: Happy #FourthofJuly !\\n\\nWhile ...\n",
              "\n",
              "[696 rows x 3 columns]"
            ]
          },
          "metadata": {
            "tags": []
          },
          "execution_count": 10
        }
      ]
    },
    {
      "cell_type": "markdown",
      "metadata": {
        "id": "gKQluolPoYpb"
      },
      "source": [
        ""
      ]
    },
    {
      "cell_type": "code",
      "metadata": {
        "colab": {
          "base_uri": "https://localhost:8080/"
        },
        "id": "5AKir6TB9h_2",
        "outputId": "b9d342d8-e11f-4317-9886-6455d32fdf0d"
      },
      "source": [
        "#Double check if it has duplicated ids\n",
        "df = df.drop_duplicates(subset=['screen name'])\n",
        "df = df.reset_index(drop=True)\n",
        "s = df['screen name']\n",
        "s"
      ],
      "execution_count": null,
      "outputs": [
        {
          "output_type": "execute_result",
          "data": {
            "text/plain": [
              "0      152aqtnQIX2SeO4\n",
              "1        happy_bogummy\n",
              "2          LLL86262463\n",
              "3      TomWong93767868\n",
              "4      FreeUyghurWomen\n",
              "            ...       \n",
              "691       yoonhoonjean\n",
              "692           iamWolby\n",
              "693       samuelgbaron\n",
              "694     Daniel23501037\n",
              "695         OliviaEnos\n",
              "Name: screen name, Length: 696, dtype: object"
            ]
          },
          "metadata": {
            "tags": []
          },
          "execution_count": 11
        }
      ]
    },
    {
      "cell_type": "code",
      "metadata": {
        "colab": {
          "base_uri": "https://localhost:8080/"
        },
        "id": "wBVW_Wxw9z7I",
        "outputId": "7caa30bc-23f1-4a71-e8f3-0cdca6dc46cd"
      },
      "source": [
        "for i in range(len(s)):\n",
        "  s[i] = \"https://twitter.com/\"+s[i]\n",
        "\n",
        "s"
      ],
      "execution_count": null,
      "outputs": [
        {
          "output_type": "execute_result",
          "data": {
            "text/plain": [
              "0      https://twitter.com/152aqtnQIX2SeO4\n",
              "1        https://twitter.com/happy_bogummy\n",
              "2          https://twitter.com/LLL86262463\n",
              "3      https://twitter.com/TomWong93767868\n",
              "4      https://twitter.com/FreeUyghurWomen\n",
              "                      ...                 \n",
              "691       https://twitter.com/yoonhoonjean\n",
              "692           https://twitter.com/iamWolby\n",
              "693       https://twitter.com/samuelgbaron\n",
              "694     https://twitter.com/Daniel23501037\n",
              "695         https://twitter.com/OliviaEnos\n",
              "Name: screen name, Length: 696, dtype: object"
            ]
          },
          "metadata": {
            "tags": []
          },
          "execution_count": 12
        }
      ]
    },
    {
      "cell_type": "code",
      "metadata": {
        "colab": {
          "base_uri": "https://localhost:8080/",
          "height": 419
        },
        "id": "ABvcX8iD-5YG",
        "outputId": "b1a23c77-75db-469e-e370-4188c25c7564"
      },
      "source": [
        "df = pd.DataFrame(s)\n",
        "display(df)"
      ],
      "execution_count": null,
      "outputs": [
        {
          "output_type": "display_data",
          "data": {
            "text/html": [
              "<div>\n",
              "<style scoped>\n",
              "    .dataframe tbody tr th:only-of-type {\n",
              "        vertical-align: middle;\n",
              "    }\n",
              "\n",
              "    .dataframe tbody tr th {\n",
              "        vertical-align: top;\n",
              "    }\n",
              "\n",
              "    .dataframe thead th {\n",
              "        text-align: right;\n",
              "    }\n",
              "</style>\n",
              "<table border=\"1\" class=\"dataframe\">\n",
              "  <thead>\n",
              "    <tr style=\"text-align: right;\">\n",
              "      <th></th>\n",
              "      <th>screen name</th>\n",
              "    </tr>\n",
              "  </thead>\n",
              "  <tbody>\n",
              "    <tr>\n",
              "      <th>0</th>\n",
              "      <td>https://twitter.com/152aqtnQIX2SeO4</td>\n",
              "    </tr>\n",
              "    <tr>\n",
              "      <th>1</th>\n",
              "      <td>https://twitter.com/happy_bogummy</td>\n",
              "    </tr>\n",
              "    <tr>\n",
              "      <th>2</th>\n",
              "      <td>https://twitter.com/LLL86262463</td>\n",
              "    </tr>\n",
              "    <tr>\n",
              "      <th>3</th>\n",
              "      <td>https://twitter.com/TomWong93767868</td>\n",
              "    </tr>\n",
              "    <tr>\n",
              "      <th>4</th>\n",
              "      <td>https://twitter.com/FreeUyghurWomen</td>\n",
              "    </tr>\n",
              "    <tr>\n",
              "      <th>...</th>\n",
              "      <td>...</td>\n",
              "    </tr>\n",
              "    <tr>\n",
              "      <th>691</th>\n",
              "      <td>https://twitter.com/yoonhoonjean</td>\n",
              "    </tr>\n",
              "    <tr>\n",
              "      <th>692</th>\n",
              "      <td>https://twitter.com/iamWolby</td>\n",
              "    </tr>\n",
              "    <tr>\n",
              "      <th>693</th>\n",
              "      <td>https://twitter.com/samuelgbaron</td>\n",
              "    </tr>\n",
              "    <tr>\n",
              "      <th>694</th>\n",
              "      <td>https://twitter.com/Daniel23501037</td>\n",
              "    </tr>\n",
              "    <tr>\n",
              "      <th>695</th>\n",
              "      <td>https://twitter.com/OliviaEnos</td>\n",
              "    </tr>\n",
              "  </tbody>\n",
              "</table>\n",
              "<p>696 rows × 1 columns</p>\n",
              "</div>"
            ],
            "text/plain": [
              "                             screen name\n",
              "0    https://twitter.com/152aqtnQIX2SeO4\n",
              "1      https://twitter.com/happy_bogummy\n",
              "2        https://twitter.com/LLL86262463\n",
              "3    https://twitter.com/TomWong93767868\n",
              "4    https://twitter.com/FreeUyghurWomen\n",
              "..                                   ...\n",
              "691     https://twitter.com/yoonhoonjean\n",
              "692         https://twitter.com/iamWolby\n",
              "693     https://twitter.com/samuelgbaron\n",
              "694   https://twitter.com/Daniel23501037\n",
              "695       https://twitter.com/OliviaEnos\n",
              "\n",
              "[696 rows x 1 columns]"
            ]
          },
          "metadata": {
            "tags": []
          }
        }
      ]
    },
    {
      "cell_type": "code",
      "metadata": {
        "id": "PspkFj1v_kuJ"
      },
      "source": [
        "output_file_name = \"/content/drive/MyDrive/Social accounts/twitter_hashtag/hongkong_id.csv\"\n",
        "df.to_csv(output_file_name, index = False)"
      ],
      "execution_count": null,
      "outputs": []
    },
    {
      "cell_type": "code",
      "metadata": {
        "id": "uXQFszoOApyO"
      },
      "source": [
        ""
      ],
      "execution_count": null,
      "outputs": []
    }
  ]
}